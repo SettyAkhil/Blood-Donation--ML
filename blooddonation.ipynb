{
  "cells": [
    {
      "cell_type": "code",
      "execution_count": 1,
      "metadata": {
        "id": "Q7MOGqGR8svS"
      },
      "outputs": [],
      "source": [
        "import pandas as pd\n",
        "from sklearn.model_selection import train_test_split\n",
        "from sklearn.preprocessing import StandardScaler\n",
        "from sklearn.svm import SVC\n",
        "from sklearn.metrics import accuracy_score, classification_report\n",
        "import matplotlib.pyplot as plt\n",
        "import pickle"
      ]
    },
    {
      "cell_type": "code",
      "execution_count": 2,
      "metadata": {
        "id": "lX3xki9V9ul-"
      },
      "outputs": [],
      "source": [
        "df=pd.read_csv(\"Warm_Up_Predict_Blood_Donations_-_Traning_Data.csv\")"
      ]
    },
    {
      "cell_type": "code",
      "execution_count": 3,
      "metadata": {
        "colab": {
          "base_uri": "https://localhost:8080/"
        },
        "id": "4B2H42-V9ui0",
        "outputId": "02ca27c0-165e-4b96-844a-46c0f7a73e13"
      },
      "outputs": [
        {
          "name": "stdout",
          "output_type": "stream",
          "text": [
            "Shape of the dataset: (576, 5)\n",
            "Number of rows:  576\n",
            "Number of columns:  5\n"
          ]
        }
      ],
      "source": [
        "print(\"Shape of the dataset:\", df.shape)\n",
        "num_rows, num_columns = df.shape\n",
        "print(\"Number of rows: \" , num_rows)\n",
        "print(\"Number of columns: \" , num_columns)"
      ]
    },
    {
      "cell_type": "code",
      "execution_count": 4,
      "metadata": {
        "colab": {
          "base_uri": "https://localhost:8080/"
        },
        "id": "mKrgR9Zw9ude",
        "outputId": "b5fad4e9-3a9a-40b4-c9c1-3184099f7486"
      },
      "outputs": [
        {
          "name": "stdout",
          "output_type": "stream",
          "text": [
            "Dataset: \n",
            "     Months since Last Donation  Number of Donations  \\\n",
            "619                           2                   50   \n",
            "664                           0                   13   \n",
            "441                           1                   16   \n",
            "160                           2                   20   \n",
            "358                           1                   24   \n",
            "..                          ...                  ...   \n",
            "698                          23                    1   \n",
            "433                          16                    3   \n",
            "360                          21                    2   \n",
            "541                          39                    1   \n",
            "74                           72                    1   \n",
            "\n",
            "     Total Volume Donated (c.c.)  Months since First Donation  \\\n",
            "619                        12500                           98   \n",
            "664                         3250                           28   \n",
            "441                         4000                           35   \n",
            "160                         5000                           45   \n",
            "358                         6000                           77   \n",
            "..                           ...                          ...   \n",
            "698                          250                           23   \n",
            "433                          750                           86   \n",
            "360                          500                           52   \n",
            "541                          250                           39   \n",
            "74                           250                           72   \n",
            "\n",
            "     Made Donation in March 2007  \n",
            "619                            1  \n",
            "664                            1  \n",
            "441                            1  \n",
            "160                            1  \n",
            "358                            0  \n",
            "..                           ...  \n",
            "698                            0  \n",
            "433                            0  \n",
            "360                            0  \n",
            "541                            0  \n",
            "74                             0  \n",
            "\n",
            "[576 rows x 5 columns]\n"
          ]
        }
      ],
      "source": [
        "print(\"Dataset: \")\n",
        "print(df)"
      ]
    },
    {
      "cell_type": "code",
      "execution_count": 5,
      "metadata": {
        "colab": {
          "base_uri": "https://localhost:8080/"
        },
        "id": "gYPfuD_c9ua0",
        "outputId": "0c09c644-4a48-4035-bba7-0a1ad516dd07"
      },
      "outputs": [
        {
          "name": "stdout",
          "output_type": "stream",
          "text": [
            "\n",
            "Data Type\n",
            "Months since Last Donation     int64\n",
            "Number of Donations            int64\n",
            "Total Volume Donated (c.c.)    int64\n",
            "Months since First Donation    int64\n",
            "Made Donation in March 2007    int64\n",
            "dtype: object\n"
          ]
        }
      ],
      "source": [
        "#To show the data type of the dataset\n",
        "print(\"\\nData Type\")\n",
        "print(df.dtypes)"
      ]
    },
    {
      "cell_type": "code",
      "execution_count": 6,
      "metadata": {
        "colab": {
          "base_uri": "https://localhost:8080/"
        },
        "id": "fccQeNuj-foO",
        "outputId": "e1d5fc9f-a48d-41ca-bcf8-20afc99eaec4"
      },
      "outputs": [
        {
          "name": "stdout",
          "output_type": "stream",
          "text": [
            "Months since Last Donation     0\n",
            "Number of Donations            0\n",
            "Total Volume Donated (c.c.)    0\n",
            "Months since First Donation    0\n",
            "Made Donation in March 2007    0\n",
            "dtype: int64\n"
          ]
        }
      ],
      "source": [
        "print(df.isnull().sum())"
      ]
    },
    {
      "cell_type": "code",
      "execution_count": 7,
      "metadata": {
        "colab": {
          "base_uri": "https://localhost:8080/"
        },
        "id": "F45BXQPy9uXx",
        "outputId": "8a2094ef-c3f6-4b95-c7f4-9c8572c77234"
      },
      "outputs": [
        {
          "name": "stdout",
          "output_type": "stream",
          "text": [
            "\n",
            "Description of the dataset:\n",
            "       Months since Last Donation  Number of Donations  \\\n",
            "count                  576.000000           576.000000   \n",
            "mean                     9.439236             5.427083   \n",
            "std                      8.175454             5.740010   \n",
            "min                      0.000000             1.000000   \n",
            "25%                      2.000000             2.000000   \n",
            "50%                      7.000000             4.000000   \n",
            "75%                     14.000000             7.000000   \n",
            "max                     74.000000            50.000000   \n",
            "\n",
            "       Total Volume Donated (c.c.)  Months since First Donation  \\\n",
            "count                   576.000000                   576.000000   \n",
            "mean                   1356.770833                    34.050347   \n",
            "std                    1435.002556                    24.227672   \n",
            "min                     250.000000                     2.000000   \n",
            "25%                     500.000000                    16.000000   \n",
            "50%                    1000.000000                    28.000000   \n",
            "75%                    1750.000000                    49.250000   \n",
            "max                   12500.000000                    98.000000   \n",
            "\n",
            "       Made Donation in March 2007  \n",
            "count                   576.000000  \n",
            "mean                      0.239583  \n",
            "std                       0.427200  \n",
            "min                       0.000000  \n",
            "25%                       0.000000  \n",
            "50%                       0.000000  \n",
            "75%                       0.000000  \n",
            "max                       1.000000  \n"
          ]
        }
      ],
      "source": [
        "description = df.describe()\n",
        "print(\"\\nDescription of the dataset:\")\n",
        "print(description)"
      ]
    },
    {
      "cell_type": "code",
      "execution_count": 8,
      "metadata": {
        "colab": {
          "base_uri": "https://localhost:8080/"
        },
        "id": "FkdJUDTG9uU9",
        "outputId": "09f1ef29-1dfd-404d-f4f8-08f69a621648"
      },
      "outputs": [
        {
          "name": "stdout",
          "output_type": "stream",
          "text": [
            "\n",
            "Head of the dataset:\n",
            "     Months since Last Donation  Number of Donations  \\\n",
            "619                           2                   50   \n",
            "664                           0                   13   \n",
            "441                           1                   16   \n",
            "160                           2                   20   \n",
            "358                           1                   24   \n",
            "\n",
            "     Total Volume Donated (c.c.)  Months since First Donation  \\\n",
            "619                        12500                           98   \n",
            "664                         3250                           28   \n",
            "441                         4000                           35   \n",
            "160                         5000                           45   \n",
            "358                         6000                           77   \n",
            "\n",
            "     Made Donation in March 2007  \n",
            "619                            1  \n",
            "664                            1  \n",
            "441                            1  \n",
            "160                            1  \n",
            "358                            0  \n"
          ]
        }
      ],
      "source": [
        "print(\"\\nHead of the dataset:\")\n",
        "print(df.head())"
      ]
    },
    {
      "cell_type": "code",
      "execution_count": 9,
      "metadata": {
        "colab": {
          "base_uri": "https://localhost:8080/"
        },
        "id": "7p3TQKLs9uSP",
        "outputId": "06b415c5-f2d1-42e1-c8d7-77ad44b39cdf"
      },
      "outputs": [
        {
          "name": "stdout",
          "output_type": "stream",
          "text": [
            "\n",
            "Tail of the dataset:\n",
            "     Months since Last Donation  Number of Donations  \\\n",
            "698                          23                    1   \n",
            "433                          16                    3   \n",
            "360                          21                    2   \n",
            "541                          39                    1   \n",
            "74                           72                    1   \n",
            "\n",
            "     Total Volume Donated (c.c.)  Months since First Donation  \\\n",
            "698                          250                           23   \n",
            "433                          750                           86   \n",
            "360                          500                           52   \n",
            "541                          250                           39   \n",
            "74                           250                           72   \n",
            "\n",
            "     Made Donation in March 2007  \n",
            "698                            0  \n",
            "433                            0  \n",
            "360                            0  \n",
            "541                            0  \n",
            "74                             0  \n"
          ]
        }
      ],
      "source": [
        "print(\"\\nTail of the dataset:\")\n",
        "print(df.tail())"
      ]
    },
    {
      "cell_type": "code",
      "execution_count": 10,
      "metadata": {
        "colab": {
          "base_uri": "https://localhost:8080/",
          "height": 475
        },
        "id": "GCABPOiZ9uPn",
        "outputId": "cc21e909-891e-4b2f-e58f-43503d6f77ef"
      },
      "outputs": [
        {
          "data": {
            "text/html": [
              "<div>\n",
              "<style scoped>\n",
              "    .dataframe tbody tr th:only-of-type {\n",
              "        vertical-align: middle;\n",
              "    }\n",
              "\n",
              "    .dataframe tbody tr th {\n",
              "        vertical-align: top;\n",
              "    }\n",
              "\n",
              "    .dataframe thead th {\n",
              "        text-align: right;\n",
              "    }\n",
              "</style>\n",
              "<table border=\"1\" class=\"dataframe\">\n",
              "  <thead>\n",
              "    <tr style=\"text-align: right;\">\n",
              "      <th></th>\n",
              "      <th>Months since Last Donation</th>\n",
              "      <th>Number of Donations</th>\n",
              "      <th>Total Volume Donated (c.c.)</th>\n",
              "      <th>Months since First Donation</th>\n",
              "      <th>Made Donation in March 2007</th>\n",
              "    </tr>\n",
              "  </thead>\n",
              "  <tbody>\n",
              "    <tr>\n",
              "      <th>619</th>\n",
              "      <td>2</td>\n",
              "      <td>50</td>\n",
              "      <td>12500</td>\n",
              "      <td>98</td>\n",
              "      <td>1</td>\n",
              "    </tr>\n",
              "    <tr>\n",
              "      <th>664</th>\n",
              "      <td>0</td>\n",
              "      <td>13</td>\n",
              "      <td>3250</td>\n",
              "      <td>28</td>\n",
              "      <td>1</td>\n",
              "    </tr>\n",
              "    <tr>\n",
              "      <th>441</th>\n",
              "      <td>1</td>\n",
              "      <td>16</td>\n",
              "      <td>4000</td>\n",
              "      <td>35</td>\n",
              "      <td>1</td>\n",
              "    </tr>\n",
              "    <tr>\n",
              "      <th>160</th>\n",
              "      <td>2</td>\n",
              "      <td>20</td>\n",
              "      <td>5000</td>\n",
              "      <td>45</td>\n",
              "      <td>1</td>\n",
              "    </tr>\n",
              "    <tr>\n",
              "      <th>358</th>\n",
              "      <td>1</td>\n",
              "      <td>24</td>\n",
              "      <td>6000</td>\n",
              "      <td>77</td>\n",
              "      <td>0</td>\n",
              "    </tr>\n",
              "    <tr>\n",
              "      <th>...</th>\n",
              "      <td>...</td>\n",
              "      <td>...</td>\n",
              "      <td>...</td>\n",
              "      <td>...</td>\n",
              "      <td>...</td>\n",
              "    </tr>\n",
              "    <tr>\n",
              "      <th>698</th>\n",
              "      <td>23</td>\n",
              "      <td>1</td>\n",
              "      <td>250</td>\n",
              "      <td>23</td>\n",
              "      <td>0</td>\n",
              "    </tr>\n",
              "    <tr>\n",
              "      <th>433</th>\n",
              "      <td>16</td>\n",
              "      <td>3</td>\n",
              "      <td>750</td>\n",
              "      <td>86</td>\n",
              "      <td>0</td>\n",
              "    </tr>\n",
              "    <tr>\n",
              "      <th>360</th>\n",
              "      <td>21</td>\n",
              "      <td>2</td>\n",
              "      <td>500</td>\n",
              "      <td>52</td>\n",
              "      <td>0</td>\n",
              "    </tr>\n",
              "    <tr>\n",
              "      <th>541</th>\n",
              "      <td>39</td>\n",
              "      <td>1</td>\n",
              "      <td>250</td>\n",
              "      <td>39</td>\n",
              "      <td>0</td>\n",
              "    </tr>\n",
              "    <tr>\n",
              "      <th>74</th>\n",
              "      <td>72</td>\n",
              "      <td>1</td>\n",
              "      <td>250</td>\n",
              "      <td>72</td>\n",
              "      <td>0</td>\n",
              "    </tr>\n",
              "  </tbody>\n",
              "</table>\n",
              "<p>576 rows × 5 columns</p>\n",
              "</div>"
            ],
            "text/plain": [
              "     Months since Last Donation  Number of Donations  \\\n",
              "619                           2                   50   \n",
              "664                           0                   13   \n",
              "441                           1                   16   \n",
              "160                           2                   20   \n",
              "358                           1                   24   \n",
              "..                          ...                  ...   \n",
              "698                          23                    1   \n",
              "433                          16                    3   \n",
              "360                          21                    2   \n",
              "541                          39                    1   \n",
              "74                           72                    1   \n",
              "\n",
              "     Total Volume Donated (c.c.)  Months since First Donation  \\\n",
              "619                        12500                           98   \n",
              "664                         3250                           28   \n",
              "441                         4000                           35   \n",
              "160                         5000                           45   \n",
              "358                         6000                           77   \n",
              "..                           ...                          ...   \n",
              "698                          250                           23   \n",
              "433                          750                           86   \n",
              "360                          500                           52   \n",
              "541                          250                           39   \n",
              "74                           250                           72   \n",
              "\n",
              "     Made Donation in March 2007  \n",
              "619                            1  \n",
              "664                            1  \n",
              "441                            1  \n",
              "160                            1  \n",
              "358                            0  \n",
              "..                           ...  \n",
              "698                            0  \n",
              "433                            0  \n",
              "360                            0  \n",
              "541                            0  \n",
              "74                             0  \n",
              "\n",
              "[576 rows x 5 columns]"
            ]
          },
          "execution_count": 10,
          "metadata": {},
          "output_type": "execute_result"
        }
      ],
      "source": [
        "df.dropna(inplace=True)\n",
        "df"
      ]
    },
    {
      "cell_type": "code",
      "execution_count": 11,
      "metadata": {
        "colab": {
          "base_uri": "https://localhost:8080/",
          "height": 475
        },
        "id": "xXBjqgbmCxpS",
        "outputId": "160e1e9f-600f-4945-eca4-08c743c61d91"
      },
      "outputs": [
        {
          "data": {
            "text/html": [
              "<div>\n",
              "<style scoped>\n",
              "    .dataframe tbody tr th:only-of-type {\n",
              "        vertical-align: middle;\n",
              "    }\n",
              "\n",
              "    .dataframe tbody tr th {\n",
              "        vertical-align: top;\n",
              "    }\n",
              "\n",
              "    .dataframe thead th {\n",
              "        text-align: right;\n",
              "    }\n",
              "</style>\n",
              "<table border=\"1\" class=\"dataframe\">\n",
              "  <thead>\n",
              "    <tr style=\"text-align: right;\">\n",
              "      <th></th>\n",
              "      <th>Months since Last Donation</th>\n",
              "      <th>Number of Donations</th>\n",
              "      <th>Total Volume Donated (c.c.)</th>\n",
              "      <th>Months since First Donation</th>\n",
              "      <th>Eligible for donation or not</th>\n",
              "    </tr>\n",
              "  </thead>\n",
              "  <tbody>\n",
              "    <tr>\n",
              "      <th>619</th>\n",
              "      <td>2</td>\n",
              "      <td>50</td>\n",
              "      <td>12500</td>\n",
              "      <td>98</td>\n",
              "      <td>1</td>\n",
              "    </tr>\n",
              "    <tr>\n",
              "      <th>664</th>\n",
              "      <td>0</td>\n",
              "      <td>13</td>\n",
              "      <td>3250</td>\n",
              "      <td>28</td>\n",
              "      <td>1</td>\n",
              "    </tr>\n",
              "    <tr>\n",
              "      <th>441</th>\n",
              "      <td>1</td>\n",
              "      <td>16</td>\n",
              "      <td>4000</td>\n",
              "      <td>35</td>\n",
              "      <td>1</td>\n",
              "    </tr>\n",
              "    <tr>\n",
              "      <th>160</th>\n",
              "      <td>2</td>\n",
              "      <td>20</td>\n",
              "      <td>5000</td>\n",
              "      <td>45</td>\n",
              "      <td>1</td>\n",
              "    </tr>\n",
              "    <tr>\n",
              "      <th>358</th>\n",
              "      <td>1</td>\n",
              "      <td>24</td>\n",
              "      <td>6000</td>\n",
              "      <td>77</td>\n",
              "      <td>0</td>\n",
              "    </tr>\n",
              "    <tr>\n",
              "      <th>...</th>\n",
              "      <td>...</td>\n",
              "      <td>...</td>\n",
              "      <td>...</td>\n",
              "      <td>...</td>\n",
              "      <td>...</td>\n",
              "    </tr>\n",
              "    <tr>\n",
              "      <th>698</th>\n",
              "      <td>23</td>\n",
              "      <td>1</td>\n",
              "      <td>250</td>\n",
              "      <td>23</td>\n",
              "      <td>0</td>\n",
              "    </tr>\n",
              "    <tr>\n",
              "      <th>433</th>\n",
              "      <td>16</td>\n",
              "      <td>3</td>\n",
              "      <td>750</td>\n",
              "      <td>86</td>\n",
              "      <td>0</td>\n",
              "    </tr>\n",
              "    <tr>\n",
              "      <th>360</th>\n",
              "      <td>21</td>\n",
              "      <td>2</td>\n",
              "      <td>500</td>\n",
              "      <td>52</td>\n",
              "      <td>0</td>\n",
              "    </tr>\n",
              "    <tr>\n",
              "      <th>541</th>\n",
              "      <td>39</td>\n",
              "      <td>1</td>\n",
              "      <td>250</td>\n",
              "      <td>39</td>\n",
              "      <td>0</td>\n",
              "    </tr>\n",
              "    <tr>\n",
              "      <th>74</th>\n",
              "      <td>72</td>\n",
              "      <td>1</td>\n",
              "      <td>250</td>\n",
              "      <td>72</td>\n",
              "      <td>0</td>\n",
              "    </tr>\n",
              "  </tbody>\n",
              "</table>\n",
              "<p>576 rows × 5 columns</p>\n",
              "</div>"
            ],
            "text/plain": [
              "     Months since Last Donation  Number of Donations  \\\n",
              "619                           2                   50   \n",
              "664                           0                   13   \n",
              "441                           1                   16   \n",
              "160                           2                   20   \n",
              "358                           1                   24   \n",
              "..                          ...                  ...   \n",
              "698                          23                    1   \n",
              "433                          16                    3   \n",
              "360                          21                    2   \n",
              "541                          39                    1   \n",
              "74                           72                    1   \n",
              "\n",
              "     Total Volume Donated (c.c.)  Months since First Donation  \\\n",
              "619                        12500                           98   \n",
              "664                         3250                           28   \n",
              "441                         4000                           35   \n",
              "160                         5000                           45   \n",
              "358                         6000                           77   \n",
              "..                           ...                          ...   \n",
              "698                          250                           23   \n",
              "433                          750                           86   \n",
              "360                          500                           52   \n",
              "541                          250                           39   \n",
              "74                           250                           72   \n",
              "\n",
              "     Eligible for donation or not  \n",
              "619                             1  \n",
              "664                             1  \n",
              "441                             1  \n",
              "160                             1  \n",
              "358                             0  \n",
              "..                            ...  \n",
              "698                             0  \n",
              "433                             0  \n",
              "360                             0  \n",
              "541                             0  \n",
              "74                              0  \n",
              "\n",
              "[576 rows x 5 columns]"
            ]
          },
          "execution_count": 11,
          "metadata": {},
          "output_type": "execute_result"
        }
      ],
      "source": [
        "df.rename(columns={'Made Donation in March 2007': 'Eligible for donation or not'}, inplace=True)\n",
        "df"
      ]
    },
    {
      "cell_type": "code",
      "execution_count": 12,
      "metadata": {
        "id": "tLmQNOfeE9jw"
      },
      "outputs": [],
      "source": [
        "# Replace the column names with correct names\n",
        "df = df.rename(columns={'Months since Last Donation': 'Months since Last Donation',\n",
        "                        'Number of Donations       ': 'Number of Donations',\n",
        "                        'Total Volume Donated (c.c.)': 'Total Volume Donated',\n",
        "                        'Months since First Donation    ': 'Months since First Donation'})\n",
        "\n",
        "\n"
      ]
    },
    {
      "cell_type": "code",
      "execution_count": 13,
      "metadata": {
        "id": "fsRmsQYK9uMf"
      },
      "outputs": [],
      "source": [
        "# Now you can access the columns using correct names\n",
        "X = df[['Months since Last Donation', 'Number of Donations', 'Total Volume Donated', 'Months since First Donation']]\n",
        "y = df['Eligible for donation or not']"
      ]
    },
    {
      "cell_type": "code",
      "execution_count": 14,
      "metadata": {
        "id": "vCjUJFSi-zhv"
      },
      "outputs": [],
      "source": [
        "X_train, X_test, y_train, y_test = train_test_split(X, y, test_size=0.2, random_state=42)"
      ]
    },
    {
      "cell_type": "code",
      "execution_count": 15,
      "metadata": {
        "id": "yO10y3qU-zeU"
      },
      "outputs": [
        {
          "name": "stderr",
          "output_type": "stream",
          "text": [
            "c:\\Users\\91915\\AppData\\Local\\Programs\\Python\\Python311\\Lib\\site-packages\\sklearn\\utils\\validation.py:767: FutureWarning: is_sparse is deprecated and will be removed in a future version. Check `isinstance(dtype, pd.SparseDtype)` instead.\n",
            "  if not hasattr(array, \"sparse\") and array.dtypes.apply(is_sparse).any():\n",
            "c:\\Users\\91915\\AppData\\Local\\Programs\\Python\\Python311\\Lib\\site-packages\\sklearn\\utils\\validation.py:605: FutureWarning: is_sparse is deprecated and will be removed in a future version. Check `isinstance(dtype, pd.SparseDtype)` instead.\n",
            "  if is_sparse(pd_dtype):\n",
            "c:\\Users\\91915\\AppData\\Local\\Programs\\Python\\Python311\\Lib\\site-packages\\sklearn\\utils\\validation.py:614: FutureWarning: is_sparse is deprecated and will be removed in a future version. Check `isinstance(dtype, pd.SparseDtype)` instead.\n",
            "  if is_sparse(pd_dtype) or not is_extension_array_dtype(pd_dtype):\n",
            "c:\\Users\\91915\\AppData\\Local\\Programs\\Python\\Python311\\Lib\\site-packages\\sklearn\\utils\\validation.py:767: FutureWarning: is_sparse is deprecated and will be removed in a future version. Check `isinstance(dtype, pd.SparseDtype)` instead.\n",
            "  if not hasattr(array, \"sparse\") and array.dtypes.apply(is_sparse).any():\n",
            "c:\\Users\\91915\\AppData\\Local\\Programs\\Python\\Python311\\Lib\\site-packages\\sklearn\\utils\\validation.py:605: FutureWarning: is_sparse is deprecated and will be removed in a future version. Check `isinstance(dtype, pd.SparseDtype)` instead.\n",
            "  if is_sparse(pd_dtype):\n",
            "c:\\Users\\91915\\AppData\\Local\\Programs\\Python\\Python311\\Lib\\site-packages\\sklearn\\utils\\validation.py:614: FutureWarning: is_sparse is deprecated and will be removed in a future version. Check `isinstance(dtype, pd.SparseDtype)` instead.\n",
            "  if is_sparse(pd_dtype) or not is_extension_array_dtype(pd_dtype):\n",
            "c:\\Users\\91915\\AppData\\Local\\Programs\\Python\\Python311\\Lib\\site-packages\\sklearn\\utils\\validation.py:767: FutureWarning: is_sparse is deprecated and will be removed in a future version. Check `isinstance(dtype, pd.SparseDtype)` instead.\n",
            "  if not hasattr(array, \"sparse\") and array.dtypes.apply(is_sparse).any():\n",
            "c:\\Users\\91915\\AppData\\Local\\Programs\\Python\\Python311\\Lib\\site-packages\\sklearn\\utils\\validation.py:605: FutureWarning: is_sparse is deprecated and will be removed in a future version. Check `isinstance(dtype, pd.SparseDtype)` instead.\n",
            "  if is_sparse(pd_dtype):\n",
            "c:\\Users\\91915\\AppData\\Local\\Programs\\Python\\Python311\\Lib\\site-packages\\sklearn\\utils\\validation.py:614: FutureWarning: is_sparse is deprecated and will be removed in a future version. Check `isinstance(dtype, pd.SparseDtype)` instead.\n",
            "  if is_sparse(pd_dtype) or not is_extension_array_dtype(pd_dtype):\n"
          ]
        }
      ],
      "source": [
        "# Standardize the features\n",
        "scaler = StandardScaler()\n",
        "X_train_scaled = scaler.fit_transform(X_train)\n",
        "X_test_scaled = scaler.transform(X_test)\n"
      ]
    },
    {
      "cell_type": "code",
      "execution_count": 16,
      "metadata": {
        "id": "qSYWP-c7-zbP"
      },
      "outputs": [],
      "source": [
        "# Initialize the SVC model\n",
        "svc_model = SVC(kernel='linear', random_state=42)"
      ]
    },
    {
      "cell_type": "code",
      "execution_count": 17,
      "metadata": {
        "colab": {
          "base_uri": "https://localhost:8080/",
          "height": 74
        },
        "id": "r8AAadH6-zWQ",
        "outputId": "73618f05-8493-4cdd-8498-59dec4a40d4a"
      },
      "outputs": [
        {
          "name": "stderr",
          "output_type": "stream",
          "text": [
            "c:\\Users\\91915\\AppData\\Local\\Programs\\Python\\Python311\\Lib\\site-packages\\sklearn\\utils\\validation.py:605: FutureWarning: is_sparse is deprecated and will be removed in a future version. Check `isinstance(dtype, pd.SparseDtype)` instead.\n",
            "  if is_sparse(pd_dtype):\n",
            "c:\\Users\\91915\\AppData\\Local\\Programs\\Python\\Python311\\Lib\\site-packages\\sklearn\\utils\\validation.py:614: FutureWarning: is_sparse is deprecated and will be removed in a future version. Check `isinstance(dtype, pd.SparseDtype)` instead.\n",
            "  if is_sparse(pd_dtype) or not is_extension_array_dtype(pd_dtype):\n"
          ]
        },
        {
          "data": {
            "text/html": [
              "<style>#sk-container-id-1 {color: black;background-color: white;}#sk-container-id-1 pre{padding: 0;}#sk-container-id-1 div.sk-toggleable {background-color: white;}#sk-container-id-1 label.sk-toggleable__label {cursor: pointer;display: block;width: 100%;margin-bottom: 0;padding: 0.3em;box-sizing: border-box;text-align: center;}#sk-container-id-1 label.sk-toggleable__label-arrow:before {content: \"▸\";float: left;margin-right: 0.25em;color: #696969;}#sk-container-id-1 label.sk-toggleable__label-arrow:hover:before {color: black;}#sk-container-id-1 div.sk-estimator:hover label.sk-toggleable__label-arrow:before {color: black;}#sk-container-id-1 div.sk-toggleable__content {max-height: 0;max-width: 0;overflow: hidden;text-align: left;background-color: #f0f8ff;}#sk-container-id-1 div.sk-toggleable__content pre {margin: 0.2em;color: black;border-radius: 0.25em;background-color: #f0f8ff;}#sk-container-id-1 input.sk-toggleable__control:checked~div.sk-toggleable__content {max-height: 200px;max-width: 100%;overflow: auto;}#sk-container-id-1 input.sk-toggleable__control:checked~label.sk-toggleable__label-arrow:before {content: \"▾\";}#sk-container-id-1 div.sk-estimator input.sk-toggleable__control:checked~label.sk-toggleable__label {background-color: #d4ebff;}#sk-container-id-1 div.sk-label input.sk-toggleable__control:checked~label.sk-toggleable__label {background-color: #d4ebff;}#sk-container-id-1 input.sk-hidden--visually {border: 0;clip: rect(1px 1px 1px 1px);clip: rect(1px, 1px, 1px, 1px);height: 1px;margin: -1px;overflow: hidden;padding: 0;position: absolute;width: 1px;}#sk-container-id-1 div.sk-estimator {font-family: monospace;background-color: #f0f8ff;border: 1px dotted black;border-radius: 0.25em;box-sizing: border-box;margin-bottom: 0.5em;}#sk-container-id-1 div.sk-estimator:hover {background-color: #d4ebff;}#sk-container-id-1 div.sk-parallel-item::after {content: \"\";width: 100%;border-bottom: 1px solid gray;flex-grow: 1;}#sk-container-id-1 div.sk-label:hover label.sk-toggleable__label {background-color: #d4ebff;}#sk-container-id-1 div.sk-serial::before {content: \"\";position: absolute;border-left: 1px solid gray;box-sizing: border-box;top: 0;bottom: 0;left: 50%;z-index: 0;}#sk-container-id-1 div.sk-serial {display: flex;flex-direction: column;align-items: center;background-color: white;padding-right: 0.2em;padding-left: 0.2em;position: relative;}#sk-container-id-1 div.sk-item {position: relative;z-index: 1;}#sk-container-id-1 div.sk-parallel {display: flex;align-items: stretch;justify-content: center;background-color: white;position: relative;}#sk-container-id-1 div.sk-item::before, #sk-container-id-1 div.sk-parallel-item::before {content: \"\";position: absolute;border-left: 1px solid gray;box-sizing: border-box;top: 0;bottom: 0;left: 50%;z-index: -1;}#sk-container-id-1 div.sk-parallel-item {display: flex;flex-direction: column;z-index: 1;position: relative;background-color: white;}#sk-container-id-1 div.sk-parallel-item:first-child::after {align-self: flex-end;width: 50%;}#sk-container-id-1 div.sk-parallel-item:last-child::after {align-self: flex-start;width: 50%;}#sk-container-id-1 div.sk-parallel-item:only-child::after {width: 0;}#sk-container-id-1 div.sk-dashed-wrapped {border: 1px dashed gray;margin: 0 0.4em 0.5em 0.4em;box-sizing: border-box;padding-bottom: 0.4em;background-color: white;}#sk-container-id-1 div.sk-label label {font-family: monospace;font-weight: bold;display: inline-block;line-height: 1.2em;}#sk-container-id-1 div.sk-label-container {text-align: center;}#sk-container-id-1 div.sk-container {/* jupyter's `normalize.less` sets `[hidden] { display: none; }` but bootstrap.min.css set `[hidden] { display: none !important; }` so we also need the `!important` here to be able to override the default hidden behavior on the sphinx rendered scikit-learn.org. See: https://github.com/scikit-learn/scikit-learn/issues/21755 */display: inline-block !important;position: relative;}#sk-container-id-1 div.sk-text-repr-fallback {display: none;}</style><div id=\"sk-container-id-1\" class=\"sk-top-container\"><div class=\"sk-text-repr-fallback\"><pre>SVC(kernel=&#x27;linear&#x27;, random_state=42)</pre><b>In a Jupyter environment, please rerun this cell to show the HTML representation or trust the notebook. <br />On GitHub, the HTML representation is unable to render, please try loading this page with nbviewer.org.</b></div><div class=\"sk-container\" hidden><div class=\"sk-item\"><div class=\"sk-estimator sk-toggleable\"><input class=\"sk-toggleable__control sk-hidden--visually\" id=\"sk-estimator-id-1\" type=\"checkbox\" checked><label for=\"sk-estimator-id-1\" class=\"sk-toggleable__label sk-toggleable__label-arrow\">SVC</label><div class=\"sk-toggleable__content\"><pre>SVC(kernel=&#x27;linear&#x27;, random_state=42)</pre></div></div></div></div></div>"
            ],
            "text/plain": [
              "SVC(kernel='linear', random_state=42)"
            ]
          },
          "execution_count": 17,
          "metadata": {},
          "output_type": "execute_result"
        }
      ],
      "source": [
        "# Train the SVC model\n",
        "svc_model.fit(X_train_scaled, y_train)"
      ]
    },
    {
      "cell_type": "code",
      "execution_count": 18,
      "metadata": {
        "id": "nlJetF9J-zSw"
      },
      "outputs": [],
      "source": [
        "# Make predictions\n",
        "y_pred = svc_model.predict(X_test_scaled)\n"
      ]
    },
    {
      "cell_type": "code",
      "execution_count": 19,
      "metadata": {
        "colab": {
          "base_uri": "https://localhost:8080/"
        },
        "id": "4GcJmv6f-zNR",
        "outputId": "219d52c9-d850-4e7d-afa9-0c65b6ece4e9"
      },
      "outputs": [
        {
          "name": "stdout",
          "output_type": "stream",
          "text": [
            "Accuracy: 0.75\n",
            "Classification Report:\n",
            "              precision    recall  f1-score   support\n",
            "\n",
            "           0       0.75      1.00      0.86        87\n",
            "           1       0.00      0.00      0.00        29\n",
            "\n",
            "    accuracy                           0.75       116\n",
            "   macro avg       0.38      0.50      0.43       116\n",
            "weighted avg       0.56      0.75      0.64       116\n",
            "\n"
          ]
        },
        {
          "name": "stderr",
          "output_type": "stream",
          "text": [
            "c:\\Users\\91915\\AppData\\Local\\Programs\\Python\\Python311\\Lib\\site-packages\\sklearn\\utils\\validation.py:605: FutureWarning: is_sparse is deprecated and will be removed in a future version. Check `isinstance(dtype, pd.SparseDtype)` instead.\n",
            "  if is_sparse(pd_dtype):\n",
            "c:\\Users\\91915\\AppData\\Local\\Programs\\Python\\Python311\\Lib\\site-packages\\sklearn\\utils\\validation.py:614: FutureWarning: is_sparse is deprecated and will be removed in a future version. Check `isinstance(dtype, pd.SparseDtype)` instead.\n",
            "  if is_sparse(pd_dtype) or not is_extension_array_dtype(pd_dtype):\n",
            "c:\\Users\\91915\\AppData\\Local\\Programs\\Python\\Python311\\Lib\\site-packages\\sklearn\\utils\\validation.py:605: FutureWarning: is_sparse is deprecated and will be removed in a future version. Check `isinstance(dtype, pd.SparseDtype)` instead.\n",
            "  if is_sparse(pd_dtype):\n",
            "c:\\Users\\91915\\AppData\\Local\\Programs\\Python\\Python311\\Lib\\site-packages\\sklearn\\utils\\validation.py:614: FutureWarning: is_sparse is deprecated and will be removed in a future version. Check `isinstance(dtype, pd.SparseDtype)` instead.\n",
            "  if is_sparse(pd_dtype) or not is_extension_array_dtype(pd_dtype):\n",
            "c:\\Users\\91915\\AppData\\Local\\Programs\\Python\\Python311\\Lib\\site-packages\\sklearn\\utils\\validation.py:605: FutureWarning: is_sparse is deprecated and will be removed in a future version. Check `isinstance(dtype, pd.SparseDtype)` instead.\n",
            "  if is_sparse(pd_dtype):\n",
            "c:\\Users\\91915\\AppData\\Local\\Programs\\Python\\Python311\\Lib\\site-packages\\sklearn\\utils\\validation.py:614: FutureWarning: is_sparse is deprecated and will be removed in a future version. Check `isinstance(dtype, pd.SparseDtype)` instead.\n",
            "  if is_sparse(pd_dtype) or not is_extension_array_dtype(pd_dtype):\n",
            "c:\\Users\\91915\\AppData\\Local\\Programs\\Python\\Python311\\Lib\\site-packages\\sklearn\\utils\\validation.py:605: FutureWarning: is_sparse is deprecated and will be removed in a future version. Check `isinstance(dtype, pd.SparseDtype)` instead.\n",
            "  if is_sparse(pd_dtype):\n",
            "c:\\Users\\91915\\AppData\\Local\\Programs\\Python\\Python311\\Lib\\site-packages\\sklearn\\utils\\validation.py:614: FutureWarning: is_sparse is deprecated and will be removed in a future version. Check `isinstance(dtype, pd.SparseDtype)` instead.\n",
            "  if is_sparse(pd_dtype) or not is_extension_array_dtype(pd_dtype):\n",
            "c:\\Users\\91915\\AppData\\Local\\Programs\\Python\\Python311\\Lib\\site-packages\\sklearn\\utils\\validation.py:605: FutureWarning: is_sparse is deprecated and will be removed in a future version. Check `isinstance(dtype, pd.SparseDtype)` instead.\n",
            "  if is_sparse(pd_dtype):\n",
            "c:\\Users\\91915\\AppData\\Local\\Programs\\Python\\Python311\\Lib\\site-packages\\sklearn\\utils\\validation.py:614: FutureWarning: is_sparse is deprecated and will be removed in a future version. Check `isinstance(dtype, pd.SparseDtype)` instead.\n",
            "  if is_sparse(pd_dtype) or not is_extension_array_dtype(pd_dtype):\n",
            "c:\\Users\\91915\\AppData\\Local\\Programs\\Python\\Python311\\Lib\\site-packages\\sklearn\\utils\\validation.py:605: FutureWarning: is_sparse is deprecated and will be removed in a future version. Check `isinstance(dtype, pd.SparseDtype)` instead.\n",
            "  if is_sparse(pd_dtype):\n",
            "c:\\Users\\91915\\AppData\\Local\\Programs\\Python\\Python311\\Lib\\site-packages\\sklearn\\utils\\validation.py:614: FutureWarning: is_sparse is deprecated and will be removed in a future version. Check `isinstance(dtype, pd.SparseDtype)` instead.\n",
            "  if is_sparse(pd_dtype) or not is_extension_array_dtype(pd_dtype):\n",
            "c:\\Users\\91915\\AppData\\Local\\Programs\\Python\\Python311\\Lib\\site-packages\\sklearn\\metrics\\_classification.py:1344: UndefinedMetricWarning: Precision and F-score are ill-defined and being set to 0.0 in labels with no predicted samples. Use `zero_division` parameter to control this behavior.\n",
            "  _warn_prf(average, modifier, msg_start, len(result))\n",
            "c:\\Users\\91915\\AppData\\Local\\Programs\\Python\\Python311\\Lib\\site-packages\\sklearn\\metrics\\_classification.py:1344: UndefinedMetricWarning: Precision and F-score are ill-defined and being set to 0.0 in labels with no predicted samples. Use `zero_division` parameter to control this behavior.\n",
            "  _warn_prf(average, modifier, msg_start, len(result))\n",
            "c:\\Users\\91915\\AppData\\Local\\Programs\\Python\\Python311\\Lib\\site-packages\\sklearn\\metrics\\_classification.py:1344: UndefinedMetricWarning: Precision and F-score are ill-defined and being set to 0.0 in labels with no predicted samples. Use `zero_division` parameter to control this behavior.\n",
            "  _warn_prf(average, modifier, msg_start, len(result))\n"
          ]
        }
      ],
      "source": [
        "# Evaluate the model\n",
        "accuracy = accuracy_score(y_test, y_pred)\n",
        "print(\"Accuracy:\", accuracy)\n",
        "print(\"Classification Report:\")\n",
        "print(classification_report(y_test, y_pred))"
      ]
    },
    {
      "cell_type": "code",
      "execution_count": 20,
      "metadata": {
        "colab": {
          "base_uri": "https://localhost:8080/",
          "height": 410
        },
        "id": "g_lcqiNq-zJ0",
        "outputId": "fba45b81-92ea-44e2-f999-18eaf8c55c10"
      },
      "outputs": [
        {
          "data": {
            "image/png": "[encoded data removed]",
            "text/plain": [
              "<Figure size 600x400 with 1 Axes>"
            ]
          },
          "metadata": {},
          "output_type": "display_data"
        }
      ],
      "source": [
        "# Visualize the distribution of the target variable\n",
        "plt.figure(figsize=(6, 4))\n",
        "df['Eligible for donation or not'].value_counts().plot(kind='bar', color=['skyblue', 'salmon'])\n",
        "plt.title('Distribution of Eligibility for Donation')\n",
        "plt.xlabel('Eligibility')\n",
        "plt.ylabel('Count')\n",
        "plt.xticks(ticks=[0, 1], labels=['Not Eligible', 'Eligible'], rotation=0)\n",
        "plt.show()"
      ]
    },
    {
      "cell_type": "code",
      "execution_count": 21,
      "metadata": {
        "id": "AGXJoAqMoIQb"
      },
      "outputs": [],
      "source": [
        "#save the model to a file using pickle\n",
        "with open('svc_model.pkl','wb') as f:\n",
        "  pickle.dump(svc_model, f)"
      ]
    }
  ],
  "metadata": {
    "colab": {
      "provenance": []
    },
    "kernelspec": {
      "display_name": "Python 3",
      "name": "python3"
    },
    "language_info": {
      "codemirror_mode": {
        "name": "ipython",
        "version": 3
      },
      "file_extension": ".py",
      "mimetype": "text/x-python",
      "name": "python",
      "nbconvert_exporter": "python",
      "pygments_lexer": "ipython3",
      "version": "3.11.3"
    }
  },
  "nbformat": 4,
  "nbformat_minor": 0
}
